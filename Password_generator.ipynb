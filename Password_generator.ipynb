{
  "nbformat": 4,
  "nbformat_minor": 0,
  "metadata": {
    "colab": {
      "provenance": [],
      "authorship_tag": "ABX9TyPsARanDghY3+8jfHF7JbrM",
      "include_colab_link": true
    },
    "kernelspec": {
      "name": "python3",
      "display_name": "Python 3"
    },
    "language_info": {
      "name": "python"
    }
  },
  "cells": [
    {
      "cell_type": "markdown",
      "metadata": {
        "id": "view-in-github",
        "colab_type": "text"
      },
      "source": [
        "<a href=\"https://colab.research.google.com/github/Ae8y2la/Password-generator-python/blob/main/Password_generator.ipynb\" target=\"_parent\"><img src=\"https://colab.research.google.com/assets/colab-badge.svg\" alt=\"Open In Colab\"/></a>"
      ]
    },
    {
      "cell_type": "markdown",
      "source": [
        "# **PASSWORD-GENERATOR🤖**"
      ],
      "metadata": {
        "id": "Z659nzpU4QpY"
      }
    },
    {
      "cell_type": "code",
      "source": [
        "# Importing random and string\n",
        "\n",
        "import random\n",
        "import string\n",
        "\n",
        "# Creating a password generator\n",
        "def generate_password(length, use_numbers=True, use_special_chars=True, theme=\"strong\"):\n",
        "\n",
        "    # Define character sets\n",
        "    lowercase_letters = string.ascii_lowercase\n",
        "    uppercase_letters = string.ascii_uppercase\n",
        "    numbers = string.digits if use_numbers else \"\"\n",
        "    special_chars = \"!@#$%^&*()_+-=[]{}|;:,.<>?\" if use_special_chars else \"\"\n",
        "\n",
        "    # Combine all character sets\n",
        "    all_chars = lowercase_letters + uppercase_letters + numbers + special_chars\n",
        "\n",
        "    # Generate password based on theme\n",
        "    if theme == \"strong\":\n",
        "        # Ensure the password contains at least one character from each selected set\n",
        "        password = [\n",
        "            random.choice(lowercase_letters),\n",
        "            random.choice(uppercase_letters),\n",
        "        ]\n",
        "        if use_numbers:\n",
        "            password.append(random.choice(numbers))\n",
        "        if use_special_chars:\n",
        "            password.append(random.choice(special_chars))\n",
        "\n",
        "        # Fill the rest of the password with random characters\n",
        "        for _ in range(length - len(password)):\n",
        "            password.append(random.choice(all_chars))\n",
        "\n",
        "        # Shuffle the password to make it more random\n",
        "        random.shuffle(password)\n",
        "\n",
        "    elif theme == \"memorable\":\n",
        "        # Generate a memorable password using random words and numbers\n",
        "        words = [\"apple\", \"tiger\", \"sunset\", \"mountain\", \"river\", \"forest\", \"dragon\", \"ocean\"]\n",
        "        password = [random.choice(words).capitalize(), random.choice(words).capitalize()]\n",
        "        if use_numbers:\n",
        "            password.append(str(random.randint(10, 99)))\n",
        "        if use_special_chars:\n",
        "            password.append(random.choice(special_chars))\n",
        "\n",
        "    elif theme == \"pin\":\n",
        "        # Generate a numeric PIN\n",
        "        password = [random.choice(numbers) for _ in range(length)]\n",
        "\n",
        "    elif theme == \"fun\":\n",
        "        # Generate a fun password using emojis and random characters\n",
        "        emojis = [\"🍥\", \"♟\", \"🃏\", \"👽\", \"💎\", \"🕸\", \"🐦‍🔥\", \"📎\"]\n",
        "        password = []\n",
        "        for _ in range(length // 2):  # Generate pairs of emoji + character\n",
        "            password.append(random.choice(emojis))  # Add an emoji\n",
        "            password.append(random.choice(all_chars))  # Add a random character\n",
        "        if length % 2 != 0:  # If length is odd, add one more character\n",
        "            password.append(random.choice(all_chars))\n",
        "\n",
        "    else:\n",
        "        raise ValueError(\"Invalid theme selected.\")\n",
        "\n",
        "    # Convert the list to a string\n",
        "    return \"\".join(password)\n",
        "\n",
        "def password_strength(password):\n",
        "    # Evaluate password strength\n",
        "    strength = 0\n",
        "    if any(c.islower() for c in password):\n",
        "        strength += 1\n",
        "    if any(c.isupper() for c in password):\n",
        "        strength += 1\n",
        "    if any(c.isdigit() for c in password):\n",
        "        strength += 1\n",
        "    if any(c in \"!@#$%^&*()_+-=[]{}|;:,.<>?\" for c in password):\n",
        "        strength += 1\n",
        "    if len(password) >= 12:\n",
        "        strength += 1\n",
        "\n",
        "    if strength <= 2:\n",
        "        return \"Weak\"\n",
        "    elif strength <= 4:\n",
        "        return \"Medium\"\n",
        "    else:\n",
        "        return \"Strong\"\n",
        "\n",
        "def main():\n",
        "    try:\n",
        "        # Ask the user for the password length\n",
        "        length = int(input(\"Enter the length of the password (minimum 4): \"))\n",
        "        if length < 4:\n",
        "            print(\"Password length must be at least 4.\")\n",
        "            return\n",
        "\n",
        "        # Ask the user for the password theme\n",
        "        print(\"\\nChoose a password theme:\")\n",
        "        print(\"1. Strong 🦾\")\n",
        "        print(\"2. Memorable 🧠\")\n",
        "        print(\"3. PIN 🔐\")\n",
        "        print(\"4. Fun 👻\")\n",
        "        theme_choice = input(\"Enter your choice (1-4): \")\n",
        "\n",
        "        themes = {\"1\": \"strong\", \"2\": \"memorable\", \"3\": \"pin\", \"4\": \"fun\"}\n",
        "        theme = themes.get(theme_choice, \"strong\")\n",
        "\n",
        "        # Ask the user if they want numbers OR special characters\n",
        "        use_numbers = input(\"Include numbers? (y/n): \").lower() == \"y\"\n",
        "        use_special_chars = input(\"Include special characters? (y/n): \").lower() == \"y\"\n",
        "\n",
        "        # Generate the password\n",
        "        password = generate_password(length, use_numbers, use_special_chars, theme)\n",
        "\n",
        "        # Display the password and its strength\n",
        "        print(f\"\\nYour generated password is: {password}\")\n",
        "        print(f\"Password Strength: {password_strength(password)}\")\n",
        "\n",
        "    except ValueError as e:\n",
        "        print(f\"Error: {e}\")\n",
        "\n",
        "if __name__ == \"__main__\":\n",
        "    main()\n",
        "# --------------------------------------------------THE-END------------------------------------------------------------------"
      ],
      "metadata": {
        "colab": {
          "base_uri": "https://localhost:8080/"
        },
        "id": "Qmsyq6g26_nj",
        "outputId": "84c2ef27-b885-45ee-a434-620c7016b991"
      },
      "execution_count": 12,
      "outputs": [
        {
          "output_type": "stream",
          "name": "stdout",
          "text": [
            "Enter the length of the password (minimum 4): 8\n",
            "\n",
            "Choose a password theme:\n",
            "1. Strong 🦾\n",
            "2. Memorable 🧠\n",
            "3. PIN 🔐\n",
            "4. Fun 👻\n",
            "Enter your choice (1-4): 1\n",
            "Include numbers? (y/n): Y\n",
            "Include special characters? (y/n): Y\n",
            "\n",
            "Your generated password is: IBf}8U.I\n",
            "Password Strength: Medium\n"
          ]
        }
      ]
    }
  ]
}